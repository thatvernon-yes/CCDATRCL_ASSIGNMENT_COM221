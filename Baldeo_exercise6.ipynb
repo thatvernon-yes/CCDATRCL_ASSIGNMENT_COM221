{
  "cells": [
    {
      "cell_type": "markdown",
      "metadata": {
        "id": "YNpoa-6wwAUz"
      },
      "source": [
        "# Exercise 6"
      ]
    },
    {
      "cell_type": "markdown",
      "metadata": {
        "id": "CviQHpwzwAU5"
      },
      "source": [
        "#### Pre-defined code"
      ]
    },
    {
      "cell_type": "code",
      "execution_count": 1,
      "metadata": {
        "id": "b-MEPnrawAU6"
      },
      "outputs": [],
      "source": [
        "class Node:\n",
        "    def __init__(self, item):\n",
        "        self.left = None\n",
        "        self.right = None\n",
        "        self.val = item"
      ]
    },
    {
      "cell_type": "code",
      "execution_count": 2,
      "metadata": {
        "id": "m_QYSEA8wAU-"
      },
      "outputs": [],
      "source": [
        "def inorder(root):\n",
        "\n",
        "    if root:\n",
        "        # Traverse left\n",
        "        inorder(root.left)\n",
        "        # Traverse root\n",
        "        print(str(root.val) + \"->\", end='')\n",
        "        # Traverse right\n",
        "        inorder(root.right)\n",
        "\n",
        "def postorder(root):\n",
        "\n",
        "    if root:\n",
        "        # Traverse left\n",
        "        postorder(root.left)\n",
        "        # Traverse right\n",
        "        postorder(root.right)\n",
        "        # Traverse root\n",
        "        print(str(root.val) + \"->\", end='')\n",
        "\n",
        "def preorder(root):\n",
        "\n",
        "    if root:\n",
        "        # Traverse root\n",
        "        print(str(root.val) + \"->\", end='')\n",
        "        # Traverse left\n",
        "        preorder(root.left)\n",
        "        # Traverse right\n",
        "        preorder(root.right)"
      ]
    },
    {
      "cell_type": "markdown",
      "metadata": {
        "id": "qgPCW4SXwAU_"
      },
      "source": [
        "#### 1. Construct Create your own company org chart and put yourself as CEO.\n",
        "\n",
        "Using a Tree data structure,\n",
        "\n",
        "- Assign yourself as CEO\n",
        "\n",
        "- Assign any of your classmate as HR Director\n",
        "- Assign any of your classmate as Sales Director\n",
        "\n",
        "- Assign any of your classmate as trainee. His/her boss is the HR Director\n",
        "- Assign any of your classmate as a staff and trainee. Their boss is the Sales Director\n"
      ]
    },
    {
      "cell_type": "markdown",
      "metadata": {
        "id": "kgHm0M8IwAVA"
      },
      "source": [
        "<img src=\"https://thumbs.dreamstime.com/z/cartoon-organization-chart-some-company-93778925.jpg\"/>"
      ]
    },
    {
      "cell_type": "code",
      "execution_count": 3,
      "metadata": {
        "id": "yET6-n6ewAVB"
      },
      "outputs": [],
      "source": [
        "# put your answer here\n",
        "CEO = Node(\"Vernon\")\n",
        "HR_Director = Node(\"Rainnand\")\n",
        "Sales_Director = Node(\"Carl\")\n",
        "Trainee1 = Node(\"Niel\")\n",
        "Staff = Node(\"Pedro\")\n",
        "Trainee2 = Node(\"Juan\")\n",
        "\n",
        "#CEO's leaf/child\n",
        "CEO.left = HR_Director\n",
        "CEO.right = Sales_Director\n",
        "\n",
        "#HR's leaf/child\n",
        "HR_Director.left = Trainee1\n",
        "\n",
        "#Sales's leaf/child\n",
        "\n",
        "Sales_Director.left = Staff\n",
        "Sales_Director.right = Trainee2"
      ]
    },
    {
      "cell_type": "markdown",
      "metadata": {
        "id": "EKuU5fqCwAVB"
      },
      "source": [
        "#### 2. Traverse the tree in in-order traversal"
      ]
    },
    {
      "cell_type": "code",
      "execution_count": 4,
      "metadata": {
        "id": "DTpeaBy-wAVC",
        "colab": {
          "base_uri": "https://localhost:8080/"
        },
        "outputId": "9086fa64-cf54-485d-df69-9d2355b27f7a"
      },
      "outputs": [
        {
          "output_type": "stream",
          "name": "stdout",
          "text": [
            "Niel->Rainnand->Vernon->Pedro->Carl->Juan->"
          ]
        }
      ],
      "source": [
        "# put your answer here\n",
        "inorder(CEO)"
      ]
    },
    {
      "cell_type": "markdown",
      "metadata": {
        "id": "wap3FiiNwAVD"
      },
      "source": [
        "#### 3. Traverse the tree in pre-order traversal"
      ]
    },
    {
      "cell_type": "code",
      "execution_count": 5,
      "metadata": {
        "id": "ASAQXMy4wAVD",
        "colab": {
          "base_uri": "https://localhost:8080/"
        },
        "outputId": "84dccd87-d62a-4695-dc99-608d24e47342"
      },
      "outputs": [
        {
          "output_type": "stream",
          "name": "stdout",
          "text": [
            "Vernon->Rainnand->Niel->Carl->Pedro->Juan->"
          ]
        }
      ],
      "source": [
        "# put your answer here\n",
        "preorder(CEO)"
      ]
    },
    {
      "cell_type": "markdown",
      "metadata": {
        "id": "NX78F1mSwAVE"
      },
      "source": [
        "#### 4. Traverse the tree in post-order traversal"
      ]
    },
    {
      "cell_type": "code",
      "execution_count": 6,
      "metadata": {
        "id": "S_KmSNS2wAVE",
        "colab": {
          "base_uri": "https://localhost:8080/"
        },
        "outputId": "1b8550eb-56b5-46cd-83ab-c5813bbd4156"
      },
      "outputs": [
        {
          "output_type": "stream",
          "name": "stdout",
          "text": [
            "Niel->Rainnand->Pedro->Juan->Carl->Vernon->"
          ]
        }
      ],
      "source": [
        "# put your answer here\n",
        "postorder(CEO)"
      ]
    }
  ],
  "metadata": {
    "kernelspec": {
      "display_name": "Python 3",
      "language": "python",
      "name": "python3"
    },
    "language_info": {
      "codemirror_mode": {
        "name": "ipython",
        "version": 3
      },
      "file_extension": ".py",
      "mimetype": "text/x-python",
      "name": "python",
      "nbconvert_exporter": "python",
      "pygments_lexer": "ipython3",
      "version": "3.11.4"
    },
    "orig_nbformat": 4,
    "colab": {
      "provenance": []
    }
  },
  "nbformat": 4,
  "nbformat_minor": 0
}