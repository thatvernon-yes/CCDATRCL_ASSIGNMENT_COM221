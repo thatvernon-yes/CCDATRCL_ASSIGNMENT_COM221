{
  "cells": [
    {
      "cell_type": "markdown",
      "metadata": {
        "id": "CIIv012VBh1m"
      },
      "source": [
        "# Exercise 5"
      ]
    },
    {
      "cell_type": "markdown",
      "metadata": {
        "id": "wLc_JImiBh1x"
      },
      "source": [
        "#### 1. Create a dictionary of your 10 favorite songs."
      ]
    },
    {
      "cell_type": "markdown",
      "metadata": {
        "id": "BoflYxeVBh1z"
      },
      "source": [
        "Example:\n",
        "\n",
        "|KEY|VALUE|\n",
        "|---|---|\n",
        "|001|My Love|\n",
        "|002|Like a rose|"
      ]
    },
    {
      "cell_type": "code",
      "execution_count": 12,
      "metadata": {
        "id": "BbE5AW1lBh11"
      },
      "outputs": [],
      "source": [
        "# put your answer here\n",
        "dict = {\"001\" : \"My Love\", \"002\" : \"Like a rose\", '003' : \"Believer\", '004': \"Counting Stars\", '005': \"Treat you better\",\n",
        "        '006': \"Koi Kogare\", '007': \"Kizuna no Kiseki\", '008': \"Gunjou\", '009': \"Magasin\", '010': \"Ang Huling El Bimbo\" }\n"
      ]
    },
    {
      "cell_type": "markdown",
      "metadata": {
        "id": "ikw35fjRBh15"
      },
      "source": [
        "#### 2. Loop through the dictionary by its **key** and **value**"
      ]
    },
    {
      "cell_type": "code",
      "execution_count": 13,
      "metadata": {
        "id": "_XGEMIjUBh16",
        "colab": {
          "base_uri": "https://localhost:8080/"
        },
        "outputId": "902f4612-c344-4083-a402-03268aa61fd1"
      },
      "outputs": [
        {
          "output_type": "stream",
          "name": "stdout",
          "text": [
            "001 :  My Love\n",
            "002 :  Like a rose\n",
            "003 :  Believer\n",
            "004 :  Counting Stars\n",
            "005 :  Treat you better\n",
            "006 :  Koi Kogare\n",
            "007 :  Kizuna no Kiseki\n",
            "008 :  Gunjou\n",
            "009 :  Magasin\n",
            "010 :  Ang Huling El Bimbo\n"
          ]
        }
      ],
      "source": [
        "# put your answer here\n",
        "\n",
        "for key in dict:\n",
        "  print(key, \": \", dict[key])"
      ]
    },
    {
      "cell_type": "markdown",
      "metadata": {
        "id": "vizB5rkbBh17"
      },
      "source": [
        "#### 3. Add one additional song"
      ]
    },
    {
      "cell_type": "code",
      "execution_count": 16,
      "metadata": {
        "id": "I5cPGGhPBh19",
        "colab": {
          "base_uri": "https://localhost:8080/"
        },
        "outputId": "59a8ba25-8660-4c63-daef-eb66eccfe554"
      },
      "outputs": [
        {
          "output_type": "stream",
          "name": "stdout",
          "text": [
            "001 :  My Love\n",
            "002 :  Like a rose\n",
            "003 :  Believer\n",
            "004 :  Counting Stars\n",
            "005 :  Treat you better\n",
            "006 :  Koi Kogare\n",
            "007 :  Kizuna no Kiseki\n",
            "008 :  Gunjou\n",
            "009 :  Magasin\n",
            "010 :  Ang Huling El Bimbo\n",
            "011 :  Hikaru Nara\n"
          ]
        }
      ],
      "source": [
        "# put your answer here\n",
        "dict[\"011\"] = \"Hikaru Nara\"\n",
        "\n",
        "for key in dict:\n",
        "   print(key, \": \", dict[key])"
      ]
    },
    {
      "cell_type": "markdown",
      "metadata": {
        "id": "xLE4c47KBh1-"
      },
      "source": [
        "#### 4. Remove one song"
      ]
    },
    {
      "cell_type": "code",
      "execution_count": 17,
      "metadata": {
        "id": "K7WnYjNLBh1_",
        "colab": {
          "base_uri": "https://localhost:8080/"
        },
        "outputId": "fd393a6c-478e-458d-8eb9-4d5c4b62bd49"
      },
      "outputs": [
        {
          "output_type": "stream",
          "name": "stdout",
          "text": [
            "002 :  Like a rose\n",
            "003 :  Believer\n",
            "004 :  Counting Stars\n",
            "005 :  Treat you better\n",
            "006 :  Koi Kogare\n",
            "007 :  Kizuna no Kiseki\n",
            "008 :  Gunjou\n",
            "009 :  Magasin\n",
            "010 :  Ang Huling El Bimbo\n",
            "011 :  Hikaru Nara\n"
          ]
        }
      ],
      "source": [
        "# put your answer here\n",
        "\n",
        "del dict[\"001\"]\n",
        "\n",
        "for key in dict:\n",
        "  print(key, \": \", dict[key])"
      ]
    },
    {
      "cell_type": "markdown",
      "metadata": {
        "id": "f9BtdgKVBh2A"
      },
      "source": [
        "#### 5. Create a nested dictionary of your 10 favorite songs with 5 genres. Display all of the items of the nested dictionary\n",
        "\n",
        "- Each nested dictionary's key should be the genre of the song\n",
        "- Put each song in their respective genre"
      ]
    },
    {
      "cell_type": "markdown",
      "metadata": {
        "id": "2Tum69rKBh2B"
      },
      "source": [
        "Example:\n",
        "\n",
        "\n",
        "|KEY|VALUE|\n",
        "|---|---|\n",
        "|Pop|{001, Baby}|\n",
        "|Rock|{001, Enter Sandman}|"
      ]
    },
    {
      "cell_type": "code",
      "execution_count": 40,
      "metadata": {
        "id": "6Dw3a3dpBh2B",
        "colab": {
          "base_uri": "https://localhost:8080/"
        },
        "outputId": "e96e8970-6a4d-41b0-da20-a9a47d972763"
      },
      "outputs": [
        {
          "output_type": "stream",
          "name": "stdout",
          "text": [
            "{'001': 'Believer', '002': 'Counting Stars', '004': 'Treat you better'}\n",
            "{'001': 'Jopay', '002': 'Magasin', '003': 'Huling El Bimbo'}\n",
            "{'001': 'Koi Kogare', '002': 'Kizuna no Kiseki', '003': 'Gunjou'}\n"
          ]
        }
      ],
      "source": [
        "# put your answer here\n",
        "\n",
        "Fav_songs = {'Pop' : {'001' : \"Believer\", '002': \"Counting Stars\", '004': \"Treat you better\"},\n",
        "'OPM' : {'001': \"Jopay\", '002': \"Magasin\", '003': \"Huling El Bimbo\"},\n",
        "'JPop' : { '001': \"Koi Kogare\", '002': \"Kizuna no Kiseki\", '003': \"Gunjou\" }}\n",
        "\n",
        "for i in Fav_songs:\n",
        "   print(Fav_songs[i])\n"
      ]
    },
    {
      "cell_type": "markdown",
      "metadata": {
        "id": "_6dpVAcABh2C"
      },
      "source": [
        "#### 6. Print the first song of the first genre"
      ]
    },
    {
      "cell_type": "code",
      "execution_count": 10,
      "metadata": {
        "id": "5VklZQMnBh2C",
        "colab": {
          "base_uri": "https://localhost:8080/"
        },
        "outputId": "bda17a0f-80fb-41e6-ce2a-21f91f793442"
      },
      "outputs": [
        {
          "output_type": "stream",
          "name": "stdout",
          "text": [
            "Believer\n"
          ]
        }
      ],
      "source": [
        "# put your answer here\n",
        "\n",
        "print(Fav_songs['Pop']['001'])"
      ]
    },
    {
      "cell_type": "markdown",
      "metadata": {
        "id": "193DIB3cBh2D"
      },
      "source": [
        "#### 7. Print the first song of the last genre"
      ]
    },
    {
      "cell_type": "code",
      "execution_count": 11,
      "metadata": {
        "id": "ghzohCKQBh2D",
        "colab": {
          "base_uri": "https://localhost:8080/"
        },
        "outputId": "5d412111-1095-4563-c870-f924c47f1346"
      },
      "outputs": [
        {
          "output_type": "stream",
          "name": "stdout",
          "text": [
            "Koi Kogare\n"
          ]
        }
      ],
      "source": [
        "# put your answer here\n",
        "print(Fav_songs['JPop']['001'])"
      ]
    }
  ],
  "metadata": {
    "kernelspec": {
      "display_name": "Python 3",
      "language": "python",
      "name": "python3"
    },
    "language_info": {
      "codemirror_mode": {
        "name": "ipython",
        "version": 3
      },
      "file_extension": ".py",
      "mimetype": "text/x-python",
      "name": "python",
      "nbconvert_exporter": "python",
      "pygments_lexer": "ipython3",
      "version": "3.11.4"
    },
    "orig_nbformat": 4,
    "colab": {
      "provenance": []
    }
  },
  "nbformat": 4,
  "nbformat_minor": 0
}