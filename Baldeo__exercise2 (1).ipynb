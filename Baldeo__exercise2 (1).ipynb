{
  "cells": [
    {
      "cell_type": "markdown",
      "metadata": {
        "id": "QNWAYtOH8JJM"
      },
      "source": [
        "# Exercise 2"
      ]
    },
    {
      "cell_type": "markdown",
      "metadata": {
        "id": "WqS_i0U78JJQ"
      },
      "source": [
        "#### Pre-defined stack functions"
      ]
    },
    {
      "cell_type": "code",
      "execution_count": 71,
      "metadata": {
        "id": "Q55AdD2y8JJR"
      },
      "outputs": [],
      "source": [
        "# Creating a stack\n",
        "def create_stack():\n",
        "    stack = []\n",
        "    return stack\n",
        "\n",
        "def print_stack(stack):\n",
        "\n",
        "    if (check_empty(stack)):\n",
        "            return \"stack is empty\"\n",
        "\n",
        "    # Create a copy of the stack and reverse the elements\n",
        "    tempStack = stack.copy()\n",
        "    tempStack.reverse()\n",
        "\n",
        "    # Print all elements using a loop\n",
        "    for i in tempStack:\n",
        "        print(i)\n",
        "\n",
        "    # Delete the copy to free up memory\n",
        "    del tempStack\n",
        "\n",
        "# Creating an empty stack\n",
        "def check_empty(stack):\n",
        "    return len(stack) == 0\n",
        "\n",
        "\n",
        "# Adding items into the stack\n",
        "def push(stack, item):\n",
        "    stack.append(item)\n",
        "    print(\"pushed item: \", item)\n",
        "\n",
        "\n",
        "# Removing an element from the stack\n",
        "def pop(stack):\n",
        "    if (check_empty(stack)):\n",
        "        return \"stack is empty\"\n",
        "\n",
        "    return stack.pop()\n",
        "\n",
        "def peek(stack):\n",
        "\n",
        "    # Use negative indexing to display the last element of the list\n",
        "    print(stack[-1])\n",
        "\n",
        "def top( stack ):\n",
        "  p = len(stack)\n",
        "  return stack[p-1]\n"
      ]
    },
    {
      "cell_type": "markdown",
      "metadata": {
        "id": "z5FA3bY38JJT"
      },
      "source": [
        "#### 1. Create a burger stack.  \n",
        "\n",
        "The output of the stack should be in this order:\n",
        "\n",
        "- Bun\n",
        "\n",
        "- Tomato\n",
        "\n",
        "- Lettuce\n",
        "\n",
        "- Cheese\n",
        "\n",
        "- Patty\n",
        "\n",
        "- Bun"
      ]
    },
    {
      "cell_type": "code",
      "execution_count": 10,
      "metadata": {
        "id": "n6yPehQq8JJU",
        "colab": {
          "base_uri": "https://localhost:8080/"
        },
        "outputId": "7fae298f-4e61-4a24-9046-6b9ef4dd47e3"
      },
      "outputs": [
        {
          "output_type": "stream",
          "name": "stdout",
          "text": [
            "pushed item:  Bun\n",
            "pushed item:  Patty\n",
            "pushed item:  Cheese\n",
            "pushed item:  Lettuce\n",
            "pushed item:  Tomato\n",
            "pushed item:  Bun\n",
            "Bun\n",
            "Tomato\n",
            "Lettuce\n",
            "Cheese\n",
            "Patty\n",
            "Bun\n"
          ]
        }
      ],
      "source": [
        "# Put your answer here\n",
        "\n",
        "foods = create_stack()\n",
        "push(foods, \"Bun\")\n",
        "push(foods, \"Patty\")\n",
        "push(foods, \"Cheese\")\n",
        "push(foods, \"Lettuce\")\n",
        "push(foods, \"Tomato\")\n",
        "push(foods, \"Bun\")\n",
        "\n",
        "print_stack(foods)"
      ]
    },
    {
      "cell_type": "markdown",
      "metadata": {
        "id": "W4XvryDA8JJU"
      },
      "source": [
        "#### 2. Reverse a string using a stack\n",
        "\n",
        "Given two stacks:\n",
        "\n",
        "**name_stack = ['E', 'L', 'I', 'Z', 'E', 'R']**\n",
        "\n",
        "**reversed_stack = []**\n",
        "\n",
        "Use your **firstname** and pop each letter from the **name_stack** and push each element into the **reversed_stack**\n",
        "\n",
        "-----------------\n",
        "**Expected output:**\n",
        "\n",
        "print(reversed_stack)\n",
        "\n",
        "['R', 'E', 'Z', 'I', 'L', 'E']"
      ]
    },
    {
      "cell_type": "code",
      "execution_count": 11,
      "metadata": {
        "id": "BuPMzC-g8JJV",
        "colab": {
          "base_uri": "https://localhost:8080/"
        },
        "outputId": "11e10510-95c4-4049-eb73-6feefe969362"
      },
      "outputs": [
        {
          "output_type": "stream",
          "name": "stdout",
          "text": [
            "pushed item:  J\n",
            "pushed item:  O\n",
            "pushed item:  H\n",
            "pushed item:  N\n",
            "pushed item:  V\n",
            "pushed item:  E\n",
            "pushed item:  R\n",
            "pushed item:  N\n",
            "pushed item:  O\n",
            "pushed item:  N\n",
            "['J', 'O', 'H', 'N', 'V', 'E', 'R', 'N', 'O', 'N']\n",
            "----------------------------------------\n",
            "pushed item:  N\n",
            "pushed item:  O\n",
            "pushed item:  N\n",
            "pushed item:  R\n",
            "pushed item:  E\n",
            "pushed item:  V\n",
            "pushed item:  N\n",
            "pushed item:  H\n",
            "pushed item:  O\n",
            "pushed item:  J\n",
            "['N', 'O', 'N', 'R', 'E', 'V', 'N', 'H', 'O', 'J']\n"
          ]
        }
      ],
      "source": [
        "# put your answer here\n",
        "\n",
        "name = create_stack()\n",
        "push(name, \"J\")\n",
        "push(name, \"O\")\n",
        "push(name, \"H\")\n",
        "push(name, \"N\")\n",
        "push(name, \"V\")\n",
        "push(name, \"E\")\n",
        "push(name, \"R\")\n",
        "push(name, \"N\")\n",
        "push(name, \"O\")\n",
        "push(name, \"N\")\n",
        "\n",
        "print(name)\n",
        "print(\"----------------------------------------\")\n",
        "\n",
        "reverse = create_stack()\n",
        "\n",
        "\n",
        "while len(name) > 0:\n",
        "  push(reverse, pop(name))\n",
        "\n",
        "\n",
        "print(reverse)"
      ]
    },
    {
      "cell_type": "markdown",
      "metadata": {
        "id": "coRKfCPZ8JJV"
      },
      "source": [
        "#### 3. Remove elements using a stack\n",
        "\n",
        "Given this stack:\n",
        "\n",
        "numbers = [1,2,3,4,5,6,7,8,9,10]\n",
        "\n",
        "new_stack = []\n",
        "\n",
        "Using the **pop()** function, push elements in the **new_stack** if they are an **even number**\n",
        "\n",
        "-----------------\n",
        "\n",
        "**Expected output:**\n",
        "\n",
        "print(new_stack)\n",
        "\n",
        "[2,4,6,8,10]"
      ]
    },
    {
      "cell_type": "code",
      "execution_count": 12,
      "metadata": {
        "id": "zTXYampp8JJV",
        "colab": {
          "base_uri": "https://localhost:8080/"
        },
        "outputId": "df7871ec-5500-4bcb-e674-1270ff687cab"
      },
      "outputs": [
        {
          "output_type": "stream",
          "name": "stdout",
          "text": [
            "pushed item:  1\n",
            "pushed item:  2\n",
            "pushed item:  3\n",
            "pushed item:  4\n",
            "pushed item:  5\n",
            "pushed item:  6\n",
            "pushed item:  7\n",
            "pushed item:  8\n",
            "pushed item:  9\n",
            "pushed item:  10\n",
            "\n",
            "pushed item:  10\n",
            "pushed item:  8\n",
            "pushed item:  6\n",
            "pushed item:  4\n",
            "pushed item:  2\n",
            "[2, 4, 6, 8, 10]\n"
          ]
        }
      ],
      "source": [
        "# put your answer here\n",
        "\n",
        "numbers = create_stack()\n",
        "evens = create_stack()\n",
        "temp = create_stack()\n",
        "\n",
        "i = 1\n",
        "while (i <= 10 ):\n",
        "  push(numbers, i)\n",
        "  i = i + 1\n",
        "\n",
        "print()\n",
        "\n",
        "\n",
        "while len(numbers) > 0:\n",
        "  temp = pop(numbers)\n",
        "  if temp % 2 == 0:\n",
        "    push(evens, temp)\n",
        "\n",
        "evens.reverse()\n",
        "print(evens)\n",
        "\n",
        "\n"
      ]
    },
    {
      "cell_type": "markdown",
      "metadata": {
        "id": "1s4LGmuT8JJW"
      },
      "source": [
        "#### 4. Inserting elements into a stack\n",
        "\n",
        "Given two stacks:\n",
        "\n",
        "my_stack = ['E', 'L', 'I', 'Z', 'E', 'R', 'P', 'O', 'N', 'I', 'O', 'J', 'R']\n",
        "\n",
        "empty_stack = []\n",
        "\n",
        "Use **pop()** to get each element from  **my_stack** and use **push()** to insert the element to **empty_stack** only if:\n",
        "\n",
        "1. The element is a **vowel**\n",
        "2. The element does not exist in **empty_stack**\n",
        "\n",
        "----------------------\n",
        "\n",
        "**Expected output:**\n",
        "\n",
        "print_stack(empty_stack)\n",
        "\n",
        "['E', 'I', 'O']"
      ]
    },
    {
      "cell_type": "code",
      "execution_count": 13,
      "metadata": {
        "id": "cGXh7yd18JJW",
        "colab": {
          "base_uri": "https://localhost:8080/"
        },
        "outputId": "0de0cadd-eaa1-4e6c-d109-21e5c1723981"
      },
      "outputs": [
        {
          "output_type": "stream",
          "name": "stdout",
          "text": [
            "pushed item:  V\n",
            "pushed item:  E\n",
            "pushed item:  R\n",
            "pushed item:  N\n",
            "pushed item:  O\n",
            "pushed item:  N\n",
            "pushed item:  A\n",
            "pushed item:  I\n",
            "pushed item:  E\n",
            "pushed item:  O\n",
            "pushed item:  U\n",
            "['V', 'E', 'R', 'N', 'O', 'N', 'A', 'I', 'E', 'O', 'U']\n",
            "pushed item:  U\n",
            "pushed item:  O\n",
            "pushed item:  E\n",
            "pushed item:  I\n",
            "pushed item:  A\n",
            "pushed item:  O\n",
            "pushed item:  E\n",
            "{'I', 'A', 'O', 'U', 'E'}\n"
          ]
        }
      ],
      "source": [
        "# put your answer here\n",
        "\n",
        "my_stack = create_stack()\n",
        "empty_stack = create_stack()\n",
        "\n",
        "push(my_stack, \"V\")\n",
        "push(my_stack, \"E\")\n",
        "push(my_stack, \"R\")\n",
        "push(my_stack, \"N\")\n",
        "push(my_stack, \"O\")\n",
        "push(my_stack, \"N\")\n",
        "push(my_stack, \"A\")\n",
        "push(my_stack, \"I\")\n",
        "push(my_stack, \"E\")\n",
        "push(my_stack, \"O\")\n",
        "push(my_stack, \"U\")\n",
        "\n",
        "print(my_stack)\n",
        "\n",
        "while my_stack :\n",
        "  i = pop(my_stack)\n",
        "  if (i == \"A\") or (i == \"E\") or (i == \"I\") or (i == \"O\") or (i == \"U\"):\n",
        "    push(empty_stack, i)\n",
        "\n",
        "noDups = set(empty_stack)\n",
        "\n",
        "\n",
        "print(noDups)\n"
      ]
    },
    {
      "cell_type": "markdown",
      "metadata": {
        "id": "cwtpya5m8JJX"
      },
      "source": [
        "#### 5. Sort elements in a stack\n",
        "\n",
        "Given two stacks:\n",
        "\n",
        "number_stack = [3,1,2]\n",
        "\n",
        "sorted_stack = []\n",
        "\n",
        "Create a **sort()** function to pop each element from the **number_stack** and push each element into the **sorted_stack**. The elements in **sorted_stack** must be in ascending order.\n",
        "\n",
        "----------------\n",
        "\n",
        "**Hint:**\n",
        "\n",
        "| iteration | number_stack | sorted_stack |\n",
        "| --- | --- | --- |\n",
        "| 1 | [3, 1, 2] | [] |\n",
        "| 2 | [3, 1] | [2] |\n",
        "| 3 | [3, 2] | [1] |\n",
        "| 4 | [3] | [1, 2] |\n",
        "| 5 | [] | [1, 2, 3] |\n",
        "\n",
        "**Expected output:**\n",
        "\n",
        "print(sorted_stack)\n",
        "\n",
        "[1, 2, 3]"
      ]
    },
    {
      "cell_type": "code",
      "execution_count": 112,
      "metadata": {
        "id": "XrLee2zo8JJX",
        "colab": {
          "base_uri": "https://localhost:8080/"
        },
        "outputId": "8203e7bc-3c07-4c7c-f628-2f6620d89f08"
      },
      "outputs": [
        {
          "output_type": "stream",
          "name": "stdout",
          "text": [
            "pushed item:  3\n",
            "pushed item:  1\n",
            "pushed item:  2\n",
            "[3, 1, 2]\n",
            "\n",
            "=====================================\n",
            "pushed item:  1\n",
            "pushed item:  2\n",
            "\n",
            "=====================================\n",
            "pushed item:  2\n",
            "=====================================\n",
            "pushed item:  3\n",
            "-----------------------------------------\n",
            "Sorted stack:\n",
            "[1, 2, 3]\n"
          ]
        }
      ],
      "source": [
        "# put your answer here\n",
        "\n",
        "number_stack = create_stack()\n",
        "sorted_stack = create_stack()\n",
        "\n",
        "push(number_stack, 3)\n",
        "push(number_stack, 1)\n",
        "push(number_stack, 2)\n",
        "print(number_stack)\n",
        "print()\n",
        "\n",
        "while len(number_stack) != 0:\n",
        "\n",
        "  print(\"=====================================\")\n",
        "  temp = (number_stack[-1])\n",
        "  pop(number_stack)\n",
        "\n",
        "  if len(number_stack) == 0 :\n",
        "    push(sorted_stack, temp)\n",
        "    break\n",
        "\n",
        "  if int(number_stack[-1]) < int(temp):\n",
        "\n",
        "    push(sorted_stack, pop(number_stack))\n",
        "    push(number_stack, temp)\n",
        "    print()\n",
        "\n",
        "  else:\n",
        "       push(sorted_stack, int(temp))\n",
        "\n",
        "print(\"-----------------------------------------\")\n",
        "\n",
        "print(\"Sorted stack:\")\n",
        "print(sorted_stack)\n",
        "\n"
      ]
    }
  ],
  "metadata": {
    "kernelspec": {
      "display_name": "Python 3",
      "language": "python",
      "name": "python3"
    },
    "language_info": {
      "codemirror_mode": {
        "name": "ipython",
        "version": 3
      },
      "file_extension": ".py",
      "mimetype": "text/x-python",
      "name": "python",
      "nbconvert_exporter": "python",
      "pygments_lexer": "ipython3",
      "version": "3.11.4"
    },
    "orig_nbformat": 4,
    "colab": {
      "provenance": [],
      "collapsed_sections": [
        "z5FA3bY38JJT",
        "W4XvryDA8JJU",
        "coRKfCPZ8JJV",
        "1s4LGmuT8JJW"
      ]
    }
  },
  "nbformat": 4,
  "nbformat_minor": 0
}