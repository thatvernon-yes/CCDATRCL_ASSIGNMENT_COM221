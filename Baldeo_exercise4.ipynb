{
  "cells": [
    {
      "cell_type": "markdown",
      "metadata": {
        "id": "fCO3VeNzvGDc"
      },
      "source": [
        "# Exercise 4"
      ]
    },
    {
      "cell_type": "markdown",
      "metadata": {
        "id": "WFE5EpjrGr9d"
      },
      "source": [
        "#### Pre-defined sorting algorithms"
      ]
    },
    {
      "cell_type": "code",
      "execution_count": 57,
      "metadata": {
        "id": "yCeQbd0uGr9e"
      },
      "outputs": [],
      "source": [
        "def mergeSort(array):\n",
        "    global merge_steps\n",
        "    merge_steps = 0\n",
        "\n",
        "    if len(array) > 1:\n",
        "\n",
        "        #  r is the point where the array is divided into two subarrays\n",
        "        r = len(array)//2\n",
        "        L = array[:r]\n",
        "        M = array[r:]\n",
        "        merge_steps += 1\n",
        "\n",
        "        # Sort the two halves\n",
        "        mergeSort(L)\n",
        "        mergeSort(M)\n",
        "\n",
        "        i = j = k = 0\n",
        "\n",
        "        # Until we reach either end of either L or M, pick larger among\n",
        "        # elements L and M and place them in the correct position at A[p..r]\n",
        "        while i < len(L) and j < len(M):\n",
        "            merge_steps += 1\n",
        "            if L[i] < M[j]:\n",
        "                merge_steps += 1\n",
        "                array[k] = L[i]\n",
        "                i += 1\n",
        "                merge_steps += 1\n",
        "            else:\n",
        "                array[k] = M[j]\n",
        "                merge_steps += 1\n",
        "                j += 1\n",
        "            k += 1\n",
        "\n",
        "        # When we run out of elements in either L or M,\n",
        "        # pick up the remaining elements and put in A[p..r]\n",
        "        while i < len(L):\n",
        "            merge_steps += 1\n",
        "            array[k] = L[i]\n",
        "            i += 1\n",
        "            k += 1\n",
        "            merge_steps += 1\n",
        "\n",
        "        while j < len(M):\n",
        "            merge_steps += 1\n",
        "            array[k] = M[j]\n",
        "            j += 1\n",
        "            k += 1\n",
        "            merge_steps += 1\n",
        "\n",
        "# Print the array\n",
        "def printList(array):\n",
        "    for i in range(len(array)):\n",
        "        print(array[i], end=\" \")\n",
        "    print()"
      ]
    },
    {
      "cell_type": "code",
      "execution_count": 61,
      "metadata": {
        "id": "wk5vwBLIGr9g"
      },
      "outputs": [],
      "source": [
        "def countingSort(array):\n",
        "    size = len(array)\n",
        "    output = [0] * size\n",
        "    global counting_steps\n",
        "    counting_steps = 0\n",
        "\n",
        "    # Initialize count array\n",
        "    count = [0] * 10\n",
        "\n",
        "    # Store the count of each elements in count array\n",
        "    for i in range(0, size):\n",
        "        count[array[i]] += 1\n",
        "        counting_steps += 1\n",
        "\n",
        "    # Store the cummulative count\n",
        "    for i in range(1, 10):\n",
        "        count[i] += count[i - 1]\n",
        "        counting_steps += 1\n",
        "\n",
        "    # Find the index of each element of the original array in count array\n",
        "    # place the elements in output array\n",
        "    i = size - 1\n",
        "    while i >= 0:\n",
        "        output[count[array[i]] - 1] = array[i]\n",
        "        counting_steps += 1\n",
        "        count[array[i]] -= 1\n",
        "        counting_steps += 1\n",
        "        i -= 1\n",
        "\n",
        "    # Copy the sorted elements into original array\n",
        "    for i in range(0, size):\n",
        "        array[i] = output[i]\n",
        "        counting_steps += 1\n",
        "\n",
        ""
      ]
    },
    {
      "cell_type": "code",
      "execution_count": null,
      "metadata": {
        "id": "yC_GfHIWGr9g"
      },
      "outputs": [],
      "source": [
        "def insertionSort(array):\n",
        "    steps = 0\n",
        "\n",
        "    for step in range(1, len(array)):\n",
        "        key = array[step]\n",
        "        j = step - 1\n",
        "        steps = steps + 1\n",
        "\n",
        "        # Compare key with each element on the left of it until an element smaller than it is found\n",
        "        # For descending order, change key<array[j] to key>array[j].\n",
        "        while j >= 0 and key < array[j]:\n",
        "            array[j + 1] = array[j]\n",
        "            j = j - 1\n",
        "            steps = steps + 1\n",
        "\n",
        "        # Place key at after the element just smaller than it.\n",
        "        array[j + 1] = key\n",
        "        steps = steps + 1\n",
        "\n",
        "    print(\"Number of Steps\", steps)"
      ]
    },
    {
      "cell_type": "code",
      "execution_count": null,
      "metadata": {
        "id": "85RDZyKlGr9h"
      },
      "outputs": [],
      "source": [
        "# Bubble sort in Python\n",
        "def bubbleSort(array):\n",
        "\n",
        "  steps = 0\n",
        "\n",
        "  # loop to access each array element\n",
        "  for i in range(len(array)):\n",
        "\n",
        "\n",
        "\n",
        "    # loop to compare array elements\n",
        "    for j in range(0, len(array) - i - 1):\n",
        "\n",
        "      # compare two adjacent elements\n",
        "      # change > to < to sort in descending order\n",
        "      if array[j] > array[j + 1]:\n",
        "\n",
        "        # swapping elements if elements\n",
        "        # are not in the intended order\n",
        "        temp = array[j]\n",
        "        array[j] = array[j+1]\n",
        "        array[j+1] = temp\n",
        "        steps = steps + 1\n",
        "\n",
        "  print(\"Number of Steps: \", steps)"
      ]
    },
    {
      "cell_type": "markdown",
      "metadata": {
        "id": "6j9PZVsyvGDe"
      },
      "source": [
        "#### 1. Sort your **student number** in **ascending order**\n",
        "\n",
        "Example:\n",
        "\n",
        "**Input: 2022123456**\n",
        "\n",
        "**Output: 0122223456**"
      ]
    },
    {
      "cell_type": "code",
      "execution_count": 76,
      "metadata": {
        "colab": {
          "base_uri": "https://localhost:8080/"
        },
        "id": "UuNMRCm3vGDe",
        "outputId": "560fea19-1d1d-46ad-e8e7-4b35918b5236"
      },
      "outputs": [
        {
          "output_type": "stream",
          "name": "stdout",
          "text": [
            "Number of Steps:  4\n",
            "[0, 1, 2, 2, 2, 2, 3, 4, 5, 6]\n"
          ]
        }
      ],
      "source": [
        "# put your answer here\n",
        "\n",
        "Snumber = [2,0,2,2,1,2,3,4,5,6]\n",
        "\n",
        "bubbleSort(Snumber)\n",
        "\n",
        "print(Snumber)\n",
        "\n"
      ]
    },
    {
      "cell_type": "markdown",
      "metadata": {
        "id": "felukBjnvGDf"
      },
      "source": [
        "#### 2. Sort the **dates** in **ascending order**.\n",
        "\n",
        "dates = [\"12-25-2023\", birthday, \"01-01-2023\"]\n",
        "\n",
        "Enter your birthday in the birthday variable."
      ]
    },
    {
      "cell_type": "code",
      "execution_count": 110,
      "metadata": {
        "colab": {
          "base_uri": "https://localhost:8080/"
        },
        "id": "f8xQ3N0jvGDg",
        "outputId": "a5557000-5e95-47a5-e9a4-47a365c59282"
      },
      "outputs": [
        {
          "output_type": "stream",
          "name": "stdout",
          "text": [
            "Number of Steps:  2\n",
            "['12-25-2023', '08-04-2004', '01-01-2023']\n",
            "Sorted dates:  ['08-04-2004', '01-01-2023', '12-25-2023']\n"
          ]
        }
      ],
      "source": [
        "# put your answer here\n",
        "\n",
        "# Your birthday should be in mm-dd-yyyy\n",
        "birthday = \"08-04-2004\"\n",
        "\n",
        "dates = [\"12-25-2023\", birthday, \"01-01-2023\"]\n",
        "formatted = []\n",
        "date = []\n",
        "final = []\n",
        "\n",
        "for x in dates:\n",
        "  formatted.append(x.replace(\"-\", \" \"))\n",
        "\n",
        "for y in formatted:\n",
        "  split = y.split(\" \")\n",
        "\n",
        "  temp = split [0]\n",
        "  split[0] = split[2]\n",
        "  split[2] = temp\n",
        "\n",
        "  temp2 = split[1]\n",
        "  split[1] = split[2]\n",
        "  split[2] = temp2\n",
        "\n",
        "  y = split[0] + \" \" +  split[1] + \" \" + split[2]\n",
        "\n",
        "  date.append(y)\n",
        "\n",
        "\n",
        "bubbleSort(date)\n",
        "\n",
        "#print(\"Sorted dates: \", date)\n",
        "\n",
        "for z in date:\n",
        "\n",
        "  split = z.split(\" \")\n",
        "\n",
        "  temp = split [0]\n",
        "  split[0] = split[2]\n",
        "  split[2] = temp\n",
        "\n",
        "  temp2 = split[1]\n",
        "  split[1] = split[2]\n",
        "  split[2] = temp2\n",
        "\n",
        "  z = split[2] + \"-\" +  split[0] + \"-\" + split[1]\n",
        "\n",
        "\n",
        "  final.append(z)\n",
        "\n",
        "print(dates)\n",
        "print(\"Sorted dates: \", final)\n",
        "\n",
        "\n",
        "\n"
      ]
    },
    {
      "cell_type": "markdown",
      "metadata": {
        "id": "IFDPeGZxvGDg"
      },
      "source": [
        "#### 3. Count the **total number of swaps** to sort the list below using **Bubble Sort**\n",
        "\n",
        "|3|2|5|1|4|\n",
        "|---|----|---|---|---|"
      ]
    },
    {
      "cell_type": "code",
      "execution_count": null,
      "metadata": {
        "colab": {
          "base_uri": "https://localhost:8080/"
        },
        "id": "b1ppwLcevGDg",
        "outputId": "d7e34928-3fc3-45aa-9e07-a8187305c483"
      },
      "outputs": [
        {
          "name": "stdout",
          "output_type": "stream",
          "text": [
            "Number of Steps:  5\n"
          ]
        }
      ],
      "source": [
        "# put your answer here  23514  23154  23145 21345  12345\n",
        "\n",
        "list = [3,2,5,1,4]\n",
        "bubbleSort(list)"
      ]
    },
    {
      "cell_type": "markdown",
      "metadata": {
        "id": "iO2UusQWvGDi"
      },
      "source": [
        "#### 4. Count the **total number of steps** to sort the list below using **Insertion Sort**\n",
        "\n",
        "\n",
        "|6|2|5|7|4|1|8|9|3|\n",
        "|---|---|---|---|---|---|---|---|---|"
      ]
    },
    {
      "cell_type": "code",
      "execution_count": null,
      "metadata": {
        "colab": {
          "base_uri": "https://localhost:8080/"
        },
        "id": "vq1PYEjmvGDi",
        "outputId": "6fe62460-2be4-4672-d9df-dc4f3378ee8e"
      },
      "outputs": [
        {
          "name": "stdout",
          "output_type": "stream",
          "text": [
            "Number of Steps 32\n"
          ]
        }
      ],
      "source": [
        "# put your answer here\n",
        "list = [6,2,5,7,4,1,8,9,3]\n",
        "\n",
        "insertionSort(list)"
      ]
    },
    {
      "cell_type": "markdown",
      "metadata": {
        "id": "jpfNCCdbvGDj"
      },
      "source": [
        "#### 5. Given the list below:\n",
        "\n",
        "\n",
        "|77|55|24|63|22|5|47|18|\n",
        "|---|---|---|---|---|---|---|---|\n",
        "\n",
        "Using **merge sort** and **counting sort**\n",
        "\n",
        "Determine which sorting algorithm is faster by counting the total number of steps for each algorithm\n"
      ]
    },
    {
      "cell_type": "code",
      "execution_count": 62,
      "metadata": {
        "colab": {
          "base_uri": "https://localhost:8080/"
        },
        "id": "2YVK17cSvGDj",
        "outputId": "db5bb17a-8a34-4e24-ef3e-bba52bcc710c"
      },
      "outputs": [
        {
          "output_type": "stream",
          "name": "stdout",
          "text": [
            "Mergesort steps: 33\n",
            "Countingsort steps:  41\n",
            "Merge sort is faster\n"
          ]
        }
      ],
      "source": [
        "# put your answer here\n",
        "\n",
        "list = [7,5,4,3,2,5,7,1]\n",
        "\n",
        "mergeSort(list)\n",
        "countingSort(list)\n",
        "\n",
        "merge_sort_num_steps = merge_steps\n",
        "print(\"Mergesort steps:\", merge_sort_num_steps)\n",
        "\n",
        "counting_sort_num_steps = counting_steps\n",
        "print(\"Countingsort steps: \",counting_sort_num_steps)\n",
        "\n",
        "\n",
        "\n",
        "if merge_sort_num_steps > counting_sort_num_steps:\n",
        "    print(\"Counting sort is faster\")\n",
        "else:\n",
        "    print(\"Merge sort is faster\")"
      ]
    }
  ],
  "metadata": {
    "colab": {
      "collapsed_sections": [
        "IFDPeGZxvGDg",
        "iO2UusQWvGDi",
        "jpfNCCdbvGDj"
      ],
      "provenance": []
    },
    "kernelspec": {
      "display_name": "Python 3",
      "language": "python",
      "name": "python3"
    },
    "language_info": {
      "codemirror_mode": {
        "name": "ipython",
        "version": 3
      },
      "file_extension": ".py",
      "mimetype": "text/x-python",
      "name": "python",
      "nbconvert_exporter": "python",
      "pygments_lexer": "ipython3",
      "version": "3.11.4"
    }
  },
  "nbformat": 4,
  "nbformat_minor": 0
}