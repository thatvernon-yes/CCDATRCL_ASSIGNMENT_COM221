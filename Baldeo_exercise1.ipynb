{
  "cells": [
    {
      "cell_type": "markdown",
      "metadata": {
        "id": "h2vFiYhGzZOg"
      },
      "source": [
        "# Exercise 1"
      ]
    },
    {
      "cell_type": "markdown",
      "source": [
        "## Class Initialization"
      ],
      "metadata": {
        "id": "sRm6kPQozcaU"
      }
    },
    {
      "cell_type": "code",
      "execution_count": null,
      "metadata": {
        "id": "b1u4Dt9mzZOi"
      },
      "outputs": [],
      "source": [
        "class Node:\n",
        "    def __init__(self, data):\n",
        "        self.data = data\n",
        "        self.next = None"
      ]
    },
    {
      "cell_type": "code",
      "execution_count": null,
      "metadata": {
        "id": "tigvHSaHzZOj"
      },
      "outputs": [],
      "source": [
        "class LinkedList:\n",
        "\n",
        "    def __init__(self):\n",
        "        self.head = None\n",
        "\n",
        "    def traverse(self, node):\n",
        "        while node:\n",
        "            print(node.data, end=\" -> \")\n",
        "            node = node.next"
      ]
    },
    {
      "cell_type": "code",
      "execution_count": null,
      "metadata": {
        "id": "LIkQBioVzZOk"
      },
      "outputs": [],
      "source": [
        "class DoublyLinkedList:\n",
        "\n",
        "    def __init__(self):\n",
        "        self.head = None\n",
        "\n",
        "    def traverse(self, node):\n",
        "        while node:\n",
        "            print(node.data, end=\" -> \")\n",
        "            node = node.next"
      ]
    },
    {
      "cell_type": "code",
      "execution_count": null,
      "metadata": {
        "id": "zlxNT5EozZOl"
      },
      "outputs": [],
      "source": [
        "class CircularLinkedList:\n",
        "\n",
        "    def __init__(self):\n",
        "        self.head = None\n",
        "\n",
        "    def traverse(self, node):\n",
        "\n",
        "        head = node\n",
        "\n",
        "        while node:\n",
        "            print(node.data, end=\" -> \")\n",
        "            node = node.next\n",
        "\n",
        "            # Break to prevent infinite loop\n",
        "            if node == head:\n",
        "                break"
      ]
    },
    {
      "cell_type": "markdown",
      "metadata": {
        "id": "O68-Q1-bzZOl"
      },
      "source": [
        "#### 1. Create a Singly Linked list\n",
        "\n",
        "- Each node should contain your name and your seatmates\n",
        "- Create at least 5 nodes\n",
        "- Traverse all nodes"
      ]
    },
    {
      "cell_type": "code",
      "execution_count": null,
      "metadata": {
        "id": "pTcx_OuPzZOl",
        "colab": {
          "base_uri": "https://localhost:8080/"
        },
        "outputId": "202eeb3a-a134-4115-9005-a0343421d06c"
      },
      "outputs": [
        {
          "output_type": "stream",
          "name": "stdout",
          "text": [
            "Vernon -> Rainnand -> Carl -> Juan -> Pedro -> "
          ]
        }
      ],
      "source": [
        "#put your code here\n",
        "\n",
        "Singly = LinkedList()\n",
        "\n",
        "Singly.head = Node(\"Vernon\")\n",
        "e2 = Node(\"Rainnand\")\n",
        "e3 = Node(\"Carl\")\n",
        "e4 = Node(\"Juan\")\n",
        "e5 = Node(\"Pedro\")\n",
        "\n",
        "Singly.head.next = e2\n",
        "e2.next = e3\n",
        "e3.next = e4\n",
        "e4.next = e5\n",
        "\n",
        "Singly.traverse(Singly.head)"
      ]
    },
    {
      "cell_type": "markdown",
      "metadata": {
        "id": "IFgwbdw_zZOm"
      },
      "source": [
        "#### 2. Create a Doubly Linked list\n",
        "\n",
        "- Each node should contain your name and your seatmates\n",
        "- Create at least 5 nodes\n",
        "- Traverse all nodes"
      ]
    },
    {
      "cell_type": "code",
      "execution_count": null,
      "metadata": {
        "id": "8kQD2A_QzZOm",
        "colab": {
          "base_uri": "https://localhost:8080/"
        },
        "outputId": "1fa7d7db-1f00-43fd-f7c7-616875f8c852"
      },
      "outputs": [
        {
          "output_type": "stream",
          "name": "stdout",
          "text": [
            "Vernon -> Rainnand -> Carl -> Juan -> Pedro -> ---\n",
            "value of head is : Vernon\n",
            "value of next to head is : Rainnand\n",
            "---\n",
            "value of e2 is : Rainnand\n",
            "value of previous of e2 is : Vernon\n",
            "value of next of e2 is : Carl\n",
            "---\n",
            "value of e3 is : Carl\n",
            "value of previous of e3 is : Rainnand\n",
            "value of next of e2 is : Juan\n",
            "---\n",
            "value of e4 is : Juan\n",
            "value of previous of e4 is : Carl\n",
            "value of next of e4 is : Pedro\n",
            "---\n",
            "value of e5 is : Pedro\n",
            "value of previous of e5 is : Juan\n"
          ]
        }
      ],
      "source": [
        "Doubly = DoublyLinkedList()\n",
        "\n",
        "Doubly.head = Node(\"Vernon\")\n",
        "e2 = Node(\"Rainnand\")\n",
        "e3 = Node(\"Carl\")\n",
        "e4 = Node(\"Juan\")\n",
        "e5 = Node(\"Pedro\")\n",
        "\n",
        "Doubly.head.prev = None\n",
        "Doubly.head.next = e2\n",
        "\n",
        "e2.prev = Singly.head\n",
        "e2.next = e3\n",
        "\n",
        "e3.prev = e2\n",
        "e3.next = e4\n",
        "\n",
        "e4.prev = e3\n",
        "e4.next = e5\n",
        "\n",
        "e5.prev = e4\n",
        "e5.next = None\n",
        "\n",
        "Doubly.traverse(Doubly.head)\n",
        "\n",
        "print(\"---\")\n",
        "\n",
        "print(\"value of head is :\", Doubly.head.data)\n",
        "print(\"value of next to head is :\", Doubly.head.next.data)\n",
        "\n",
        "print(\"---\")\n",
        "\n",
        "print(\"value of e2 is :\", e2.data)\n",
        "print(\"value of previous of e2 is :\", e2.prev.data)\n",
        "print(\"value of next of e2 is :\", e2.next.data)\n",
        "\n",
        "print(\"---\")\n",
        "\n",
        "print(\"value of e3 is :\", e3.data)\n",
        "print(\"value of previous of e3 is :\", e3.prev.data)\n",
        "print(\"value of next of e2 is :\", e3.next.data)\n",
        "\n",
        "print(\"---\")\n",
        "\n",
        "print(\"value of e4 is :\", e4.data)\n",
        "print(\"value of previous of e4 is :\", e4.prev.data)\n",
        "print(\"value of next of e4 is :\", e4.next.data)\n",
        "\n",
        "print(\"---\")\n",
        "\n",
        "print(\"value of e5 is :\", e5.data)\n",
        "print(\"value of previous of e5 is :\", e5.prev.data)\n"
      ]
    },
    {
      "cell_type": "markdown",
      "metadata": {
        "id": "rtApbsCjzZOm"
      },
      "source": [
        "#### 2. Create a Circular Linked list\n",
        "\n",
        "- Each node should contain your name and your seatmates\n",
        "- Create at least 5 nodes\n",
        "- Traverse all nodes"
      ]
    },
    {
      "cell_type": "code",
      "execution_count": null,
      "metadata": {
        "id": "Gp1Oiq0jzZOn",
        "colab": {
          "base_uri": "https://localhost:8080/"
        },
        "outputId": "0db6c327-ee34-41f6-fa59-c8abefdf1879"
      },
      "outputs": [
        {
          "output_type": "stream",
          "name": "stdout",
          "text": [
            "Vernon -> Rainnand -> Carl -> Juan -> Pedro ->     \n",
            "value of head is : Vernon\n",
            "value of next to head is : Rainnand\n",
            "---\n",
            "value of e2 is : Rainnand\n",
            "value of next to e2 is : Carl\n",
            "---\n",
            "value of e3 is : Carl\n",
            "value of next to e3 is : Juan\n",
            "---\n",
            "value of e4 is : Juan\n",
            "value of next to e4 is : Pedro\n",
            "---\n",
            "value of e5 is : Pedro\n",
            "value of next to e5 is : Vernon\n",
            "---\n"
          ]
        }
      ],
      "source": [
        "Circular = CircularLinkedList()\n",
        "\n",
        "Circular.head = Node(\"Vernon\")\n",
        "e2 = Node(\"Rainnand\")\n",
        "e3 = Node(\"Carl\")\n",
        "e4 = Node(\"Juan\")\n",
        "e5 = Node(\"Pedro\")\n",
        "\n",
        "Circular.head.next = e2\n",
        "e2.next = e3\n",
        "e3.next = e4\n",
        "e4.next = e5\n",
        "e5.next = Circular.head\n",
        "\n",
        "Circular.traverse(Circular.head)\n",
        "\n",
        "print(\"    \")\n",
        "\n",
        "print(\"value of head is :\", Circular.head.data)\n",
        "print(\"value of next to head is :\", Circular.head.next.data)\n",
        "\n",
        "print(\"---\")\n",
        "\n",
        "print(\"value of e2 is :\", e2.data)\n",
        "print(\"value of next to e2 is :\", e2.next.data)\n",
        "\n",
        "print(\"---\")\n",
        "\n",
        "print(\"value of e3 is :\", e3.data)\n",
        "print(\"value of next to e3 is :\", e3.next.data)\n",
        "\n",
        "print(\"---\")\n",
        "\n",
        "print(\"value of e4 is :\", e4.data)\n",
        "print(\"value of next to e4 is :\", e4.next.data)\n",
        "\n",
        "print(\"---\")\n",
        "\n",
        "print(\"value of e5 is :\", e5.data)\n",
        "print(\"value of next to e5 is :\", e5.next.data)\n",
        "\n",
        "print(\"---\")"
      ]
    }
  ],
  "metadata": {
    "kernelspec": {
      "display_name": "Python 3",
      "language": "python",
      "name": "python3"
    },
    "language_info": {
      "name": "python",
      "version": "3.11.4"
    },
    "orig_nbformat": 4,
    "colab": {
      "provenance": []
    }
  },
  "nbformat": 4,
  "nbformat_minor": 0
}